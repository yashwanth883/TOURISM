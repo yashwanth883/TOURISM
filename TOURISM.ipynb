{
 "cells": [
  {
   "cell_type": "code",
   "execution_count": 1,
   "id": "0a790327",
   "metadata": {},
   "outputs": [],
   "source": [
    "import numpy as np \n",
    "import pandas as pd \n",
    "import seaborn as sns\n",
    "import matplotlib.pyplot as plt \n",
    "\n",
    "import warnings \n",
    "warnings.filterwarnings(\"ignore\") \n",
    "\n",
    "sns.set_style(\"darkgrid\") "
   ]
  },
  {
   "cell_type": "code",
   "execution_count": 2,
   "id": "5652c5ed",
   "metadata": {},
   "outputs": [],
   "source": [
    "dataset_path = r\"C:/Users/Yashwanth G R/Desktop/internship courses/India-Tourism-Statistics-2021-Table-5.2.3.csv\""
   ]
  },
  {
   "cell_type": "code",
   "execution_count": 3,
   "id": "b46e1d77",
   "metadata": {},
   "outputs": [
    {
     "data": {
      "text/html": [
       "<div>\n",
       "<style scoped>\n",
       "    .dataframe tbody tr th:only-of-type {\n",
       "        vertical-align: middle;\n",
       "    }\n",
       "\n",
       "    .dataframe tbody tr th {\n",
       "        vertical-align: top;\n",
       "    }\n",
       "\n",
       "    .dataframe thead th {\n",
       "        text-align: right;\n",
       "    }\n",
       "</style>\n",
       "<table border=\"1\" class=\"dataframe\">\n",
       "  <thead>\n",
       "    <tr style=\"text-align: right;\">\n",
       "      <th></th>\n",
       "      <th>Circle</th>\n",
       "      <th>Name of the Monument</th>\n",
       "      <th>Domestic-2019-20</th>\n",
       "      <th>Foreign-2019-20</th>\n",
       "      <th>Domestic-2020-21</th>\n",
       "      <th>Foreign-2020-21</th>\n",
       "      <th>% Growth 2021-21/2019-20-Domestic</th>\n",
       "      <th>% Growth 2021-21/2019-20-Foreign</th>\n",
       "    </tr>\n",
       "  </thead>\n",
       "  <tbody>\n",
       "    <tr>\n",
       "      <th>0</th>\n",
       "      <td>Agra</td>\n",
       "      <td>Taj Mahal</td>\n",
       "      <td>4429710</td>\n",
       "      <td>645415</td>\n",
       "      <td>1259892</td>\n",
       "      <td>9034</td>\n",
       "      <td>-71.56</td>\n",
       "      <td>-98.60</td>\n",
       "    </tr>\n",
       "    <tr>\n",
       "      <th>1</th>\n",
       "      <td>Agra</td>\n",
       "      <td>Agra Fort</td>\n",
       "      <td>1627154</td>\n",
       "      <td>386522</td>\n",
       "      <td>371242</td>\n",
       "      <td>2810</td>\n",
       "      <td>-77.18</td>\n",
       "      <td>-99.27</td>\n",
       "    </tr>\n",
       "    <tr>\n",
       "      <th>2</th>\n",
       "      <td>Agra</td>\n",
       "      <td>Fatehpur Sikri</td>\n",
       "      <td>454376</td>\n",
       "      <td>184751</td>\n",
       "      <td>107835</td>\n",
       "      <td>574</td>\n",
       "      <td>-76.27</td>\n",
       "      <td>-99.69</td>\n",
       "    </tr>\n",
       "    <tr>\n",
       "      <th>3</th>\n",
       "      <td>Agra</td>\n",
       "      <td>Akbar Tomb Sikandra</td>\n",
       "      <td>229270</td>\n",
       "      <td>19625</td>\n",
       "      <td>99509</td>\n",
       "      <td>321</td>\n",
       "      <td>-56.60</td>\n",
       "      <td>-98.36</td>\n",
       "    </tr>\n",
       "    <tr>\n",
       "      <th>4</th>\n",
       "      <td>Agra</td>\n",
       "      <td>Mariam tomb Sikandra</td>\n",
       "      <td>22517</td>\n",
       "      <td>414</td>\n",
       "      <td>9765</td>\n",
       "      <td>31</td>\n",
       "      <td>-56.63</td>\n",
       "      <td>-92.51</td>\n",
       "    </tr>\n",
       "  </tbody>\n",
       "</table>\n",
       "</div>"
      ],
      "text/plain": [
       "  Circle Name of the Monument   Domestic-2019-20  Foreign-2019-20  \\\n",
       "0   Agra             Taj Mahal           4429710           645415   \n",
       "1   Agra             Agra Fort           1627154           386522   \n",
       "2   Agra        Fatehpur Sikri            454376           184751   \n",
       "3   Agra   Akbar Tomb Sikandra            229270            19625   \n",
       "4   Agra  Mariam tomb Sikandra             22517              414   \n",
       "\n",
       "   Domestic-2020-21  Foreign-2020-21  % Growth 2021-21/2019-20-Domestic  \\\n",
       "0           1259892             9034                             -71.56   \n",
       "1            371242             2810                             -77.18   \n",
       "2            107835              574                             -76.27   \n",
       "3             99509              321                             -56.60   \n",
       "4              9765               31                             -56.63   \n",
       "\n",
       "   % Growth 2021-21/2019-20-Foreign  \n",
       "0                            -98.60  \n",
       "1                            -99.27  \n",
       "2                            -99.69  \n",
       "3                            -98.36  \n",
       "4                            -92.51  "
      ]
     },
     "execution_count": 3,
     "metadata": {},
     "output_type": "execute_result"
    }
   ],
   "source": [
    "# Loading dataset\n",
    "df = pd.read_csv(dataset_path)\n",
    "\n",
    "df.head()"
   ]
  },
  {
   "cell_type": "code",
   "execution_count": 4,
   "id": "a92fb279",
   "metadata": {},
   "outputs": [
    {
     "name": "stdout",
     "output_type": "stream",
     "text": [
      "<class 'pandas.core.frame.DataFrame'>\n",
      "RangeIndex: 178 entries, 0 to 177\n",
      "Data columns (total 8 columns):\n",
      " #   Column                             Non-Null Count  Dtype  \n",
      "---  ------                             --------------  -----  \n",
      " 0   Circle                             178 non-null    object \n",
      " 1   Name of the Monument               178 non-null    object \n",
      " 2   Domestic-2019-20                   178 non-null    int64  \n",
      " 3   Foreign-2019-20                    178 non-null    int64  \n",
      " 4   Domestic-2020-21                   178 non-null    int64  \n",
      " 5   Foreign-2020-21                    178 non-null    int64  \n",
      " 6   % Growth 2021-21/2019-20-Domestic  177 non-null    float64\n",
      " 7   % Growth 2021-21/2019-20-Foreign   176 non-null    float64\n",
      "dtypes: float64(2), int64(4), object(2)\n",
      "memory usage: 11.2+ KB\n"
     ]
    }
   ],
   "source": [
    "df.info()"
   ]
  },
  {
   "cell_type": "code",
   "execution_count": 5,
   "id": "9785c9c5",
   "metadata": {},
   "outputs": [
    {
     "name": "stdout",
     "output_type": "stream",
     "text": [
      "Requirement already satisfied: missingno in c:\\users\\yashwanth g r\\anaconda3\\lib\\site-packages (0.5.2)\n",
      "Requirement already satisfied: seaborn in c:\\users\\yashwanth g r\\anaconda3\\lib\\site-packages (from missingno) (0.11.2)\n",
      "Requirement already satisfied: numpy in c:\\users\\yashwanth g r\\anaconda3\\lib\\site-packages (from missingno) (1.21.5)\n",
      "Requirement already satisfied: scipy in c:\\users\\yashwanth g r\\anaconda3\\lib\\site-packages (from missingno) (1.9.1)\n",
      "Requirement already satisfied: matplotlib in c:\\users\\yashwanth g r\\anaconda3\\lib\\site-packages (from missingno) (3.5.2)\n",
      "Requirement already satisfied: fonttools>=4.22.0 in c:\\users\\yashwanth g r\\anaconda3\\lib\\site-packages (from matplotlib->missingno) (4.25.0)\n",
      "Requirement already satisfied: cycler>=0.10 in c:\\users\\yashwanth g r\\anaconda3\\lib\\site-packages (from matplotlib->missingno) (0.11.0)\n",
      "Requirement already satisfied: python-dateutil>=2.7 in c:\\users\\yashwanth g r\\anaconda3\\lib\\site-packages (from matplotlib->missingno) (2.8.2)\n",
      "Requirement already satisfied: pyparsing>=2.2.1 in c:\\users\\yashwanth g r\\anaconda3\\lib\\site-packages (from matplotlib->missingno) (3.0.9)\n",
      "Requirement already satisfied: kiwisolver>=1.0.1 in c:\\users\\yashwanth g r\\anaconda3\\lib\\site-packages (from matplotlib->missingno) (1.4.2)\n",
      "Requirement already satisfied: pillow>=6.2.0 in c:\\users\\yashwanth g r\\anaconda3\\lib\\site-packages (from matplotlib->missingno) (9.2.0)\n",
      "Requirement already satisfied: packaging>=20.0 in c:\\users\\yashwanth g r\\anaconda3\\lib\\site-packages (from matplotlib->missingno) (21.3)\n",
      "Requirement already satisfied: pandas>=0.23 in c:\\users\\yashwanth g r\\anaconda3\\lib\\site-packages (from seaborn->missingno) (1.4.4)\n",
      "Requirement already satisfied: pytz>=2020.1 in c:\\users\\yashwanth g r\\anaconda3\\lib\\site-packages (from pandas>=0.23->seaborn->missingno) (2022.1)\n",
      "Requirement already satisfied: six>=1.5 in c:\\users\\yashwanth g r\\anaconda3\\lib\\site-packages (from python-dateutil>=2.7->matplotlib->missingno) (1.16.0)\n",
      "Note: you may need to restart the kernel to use updated packages.\n"
     ]
    }
   ],
   "source": [
    "pip install missingno"
   ]
  },
  {
   "cell_type": "code",
   "execution_count": 7,
   "id": "ef28a553",
   "metadata": {},
   "outputs": [
    {
     "ename": "NameError",
     "evalue": "name 'missingno' is not defined",
     "output_type": "error",
     "traceback": [
      "\u001b[1;31m---------------------------------------------------------------------------\u001b[0m",
      "\u001b[1;31mNameError\u001b[0m                                 Traceback (most recent call last)",
      "\u001b[1;32m~\\AppData\\Local\\Temp\\ipykernel_6412\\1648527529.py\u001b[0m in \u001b[0;36m<module>\u001b[1;34m\u001b[0m\n\u001b[1;32m----> 1\u001b[1;33m \u001b[0mmissingno\u001b[0m\u001b[1;33m.\u001b[0m\u001b[0mmatrix\u001b[0m\u001b[1;33m(\u001b[0m\u001b[0mdf\u001b[0m\u001b[1;33m,\u001b[0m \u001b[0mcolor\u001b[0m\u001b[1;33m=\u001b[0m\u001b[1;33m(\u001b[0m\u001b[1;36m0.2\u001b[0m\u001b[1;33m,\u001b[0m \u001b[1;36m0.6\u001b[0m\u001b[1;33m,\u001b[0m \u001b[1;36m1\u001b[0m\u001b[1;33m)\u001b[0m\u001b[1;33m,\u001b[0m \u001b[0mfontsize\u001b[0m\u001b[1;33m=\u001b[0m\u001b[1;36m15\u001b[0m\u001b[1;33m)\u001b[0m\u001b[1;33m\u001b[0m\u001b[1;33m\u001b[0m\u001b[0m\n\u001b[0m\u001b[0;32m      2\u001b[0m \u001b[0mplt\u001b[0m\u001b[1;33m.\u001b[0m\u001b[0mshow\u001b[0m\u001b[1;33m(\u001b[0m\u001b[1;33m)\u001b[0m\u001b[1;33m\u001b[0m\u001b[1;33m\u001b[0m\u001b[0m\n",
      "\u001b[1;31mNameError\u001b[0m: name 'missingno' is not defined"
     ]
    }
   ],
   "source": [
    "missingno.matrix(df, color=(0.2, 0.6, 1), fontsize=15)\n",
    "plt.show()"
   ]
  },
  {
   "cell_type": "code",
   "execution_count": null,
   "id": "150feb13",
   "metadata": {},
   "outputs": [],
   "source": [
    "# Getting the indexes of missing values in the column % Growth 2021-21/2019-20-Domestic \n",
    "domestic_missing_indexes = df[df['% Growth 2021-21/2019-20-Domestic'].isna()].index\n",
    "\n",
    "# Getting the indexes of missing values in the column % Growth 2021-21/2019-20-Foreign\n",
    "foreign_missing_indexes = df[df['% Growth 2021-21/2019-20-Foreign'].isna()].index\n",
    "\n",
    "domestic_missing_indexes, foreign_missing_indexes"
   ]
  },
  {
   "cell_type": "code",
   "execution_count": null,
   "id": "f3f4c26f",
   "metadata": {},
   "outputs": [],
   "source": [
    "# Filling the missing values using the equation ((df['Domestic-2020-21'] / df['Domestic-2019-2020']) - 1) * 100\n",
    "df.loc[domestic_missing_indexes, '% Growth 2021-21/2019-20-Domestic'] = ((df.loc[domestic_missing_indexes, 'Domestic-2020-21'] / df.loc[domestic_missing_indexes, 'Domestic-2019-20']) - 1) * 100\n",
    "\n",
    "# Filling the missing values using the equation ((df['Foreign-2020-21'] / df['Foreign-2019-2020']) - 1) * 100\n",
    "df.loc[foreign_missing_indexes, '% Growth 2021-21/2019-20-Foreign'] = ((df.loc[foreign_missing_indexes, 'Foreign-2020-21'] / df.loc[foreign_missing_indexes, 'Domestic-2019-20']) - 1) * 100"
   ]
  },
  {
   "cell_type": "code",
   "execution_count": null,
   "id": "c581239b",
   "metadata": {},
   "outputs": [],
   "source": [
    "# Checking number of missing values in each feature\n",
    "df.isna().sum()"
   ]
  },
  {
   "cell_type": "code",
   "execution_count": null,
   "id": "b8f721c1",
   "metadata": {},
   "outputs": [],
   "source": [
    "# Plotting countplot of \"Circle\" feature\n",
    "plt.figure(figsize=(10,14))\n",
    "sns.countplot(data=df, y=\"Circle\", zorder=2)\n",
    "plt.title(\"Number of city occurrences in dataset\", size=19)\n",
    "plt.grid(zorder=0)\n",
    "plt.show()"
   ]
  },
  {
   "cell_type": "code",
   "execution_count": null,
   "id": "c4c8bad8",
   "metadata": {},
   "outputs": [],
   "source": [
    "# Printing all records of Circle feature\n",
    "df.Circle.values"
   ]
  },
  {
   "cell_type": "code",
   "execution_count": null,
   "id": "4bc670c3",
   "metadata": {},
   "outputs": [],
   "source": [
    "# Printing all records of \"Agra\" Circle with its Total\n",
    "df.iloc[:10]"
   ]
  },
  {
   "cell_type": "code",
   "execution_count": null,
   "id": "d65edc24",
   "metadata": {},
   "outputs": [],
   "source": [
    "# Calculating sum of Agra features\n",
    "sum_of_Agra = df[df['Circle'] == 'Agra'][df.columns[df.dtypes != \"object\"]].sum()\n",
    "sum_of_Agra"
   ]
  },
  {
   "cell_type": "code",
   "execution_count": null,
   "id": "70d12198",
   "metadata": {},
   "outputs": [],
   "source": [
    "df['Name of the Monument '] = df['Name of the Monument '].str.slice(stop=25) + '...'"
   ]
  },
  {
   "cell_type": "code",
   "execution_count": null,
   "id": "39975933",
   "metadata": {},
   "outputs": [],
   "source": [
    "# Plotting countplot of \"Name of the Monument \" feature\n",
    "plt.figure(figsize=(10,30))\n",
    "sns.countplot(data=df, y=\"Name of the Monument \", zorder=2)\n",
    "plt.title(\"Number of monument occurrences in dataset\", size=19)\n",
    "plt.grid(zorder=0)\n",
    "plt.show()"
   ]
  },
  {
   "cell_type": "code",
   "execution_count": null,
   "id": "c3e05298",
   "metadata": {},
   "outputs": [],
   "source": [
    "# Creating new dataframe without containing \"Total\" and \"Grand Total\" records\n",
    "clean_df = df[~df[\"Circle\"].isin([\"Total\", \"Grand Total\"])]"
   ]
  },
  {
   "cell_type": "code",
   "execution_count": null,
   "id": "af3647be",
   "metadata": {},
   "outputs": [],
   "source": [
    "# Calculating descriptive statistics of numerical features\n",
    "clean_df.describe()"
   ]
  },
  {
   "cell_type": "code",
   "execution_count": null,
   "id": "ea4e2c29",
   "metadata": {},
   "outputs": [],
   "source": [
    "# Plotting Boxplot of each numerical feature\n",
    "for numeric_feature in df.columns[df.dtypes != \"object\"]:\n",
    "    plt.figure(figsize=(15,6))\n",
    "    sns.boxplot(data=clean_df, x=numeric_feature);\n",
    "    plt.title(f\"Boxplot of {numeric_feature} feature\", size=19)\n",
    "    plt.xscale('log')\n",
    "    plt.show()"
   ]
  },
  {
   "cell_type": "code",
   "execution_count": null,
   "id": "1dd8affa",
   "metadata": {},
   "outputs": [],
   "source": [
    "from sklearn.preprocessing import LabelEncoder\n",
    "\n",
    "# Encoding discrete features\n",
    "numerical_df = clean_df.copy()\n",
    "numerical_df[\"Circle\"] = LabelEncoder().fit_transform(clean_df[\"Circle\"])\n",
    "numerical_df[\"Name of the Monument \"] = LabelEncoder().fit_transform(clean_df[\"Name of the Monument \"])\n",
    "\n",
    "# Displaying first 5 rows\n",
    "numerical_df.head()"
   ]
  },
  {
   "cell_type": "code",
   "execution_count": null,
   "id": "c554e193",
   "metadata": {},
   "outputs": [],
   "source": [
    "from scipy.stats import pearsonr\n",
    "import matplotlib.cm as cm\n",
    "\n",
    "def corrfunc(x, y, ax=None, **kws):\n",
    "    \"\"\"Function to plot the correlation coefficient of a plot\"\"\"\n",
    "    r, _ = pearsonr(x, y)\n",
    "    cmap = sns.diverging_palette(-1, 1, as_cmap=True)\n",
    "    cmap = cm.get_cmap('coolwarm')\n",
    "    ax = ax or plt.gca()\n",
    "    ax.set_facecolor(color=cmap(r))\n",
    "    ax.annotate(f'{r:.2f}', xy=(.14, .4) if r>0 else (.05, .4), xycoords=ax.transAxes,\n",
    "                fontsize=50, alpha=0.7, color=\"w\")\n",
    "    \n",
    "# Plotting pairplot\n",
    "g = sns.pairplot(numerical_df)\n",
    "g.map_lower(corrfunc)\n",
    "g.map_lower(sns.scatterplot, color='black')\n",
    "plt.show()"
   ]
  },
  {
   "cell_type": "code",
   "execution_count": null,
   "id": "abd9dc72",
   "metadata": {},
   "outputs": [],
   "source": [
    "# Creating new column \"total-2019-20-visitors\" and \"total-2020-21-visitors\"\n",
    "clean_df['total-2019-20-visitors'] = clean_df[['Domestic-2019-20', 'Foreign-2019-20']].sum(axis=1)\n",
    "clean_df['total-2020-21-visitors'] = clean_df[['Domestic-2020-21', 'Foreign-2020-21']].sum(axis=1)\n",
    "\n",
    "# Sorting data by 'total-2019-20-visitors'\n",
    "clean_df = clean_df.sort_values(by='total-2019-20-visitors', ascending=False)"
   ]
  },
  {
   "cell_type": "code",
   "execution_count": null,
   "id": "41ec23f1",
   "metadata": {},
   "outputs": [],
   "source": [
    "fig, ax = plt.subplots(1,2, sharey=True, figsize=(30,70))\n",
    "\n",
    "# Plotting barplot of 2019-20 Visitors\n",
    "plt.subplot(1,2,1)\n",
    "sns.barplot(y='Name of the Monument ', x=\"total-2019-20-visitors\",data=clean_df, color='purple', label='Foreign')\n",
    "sns.barplot(y='Name of the Monument ', x='Domestic-2019-20', data=clean_df, color='orange', label='Domestic')\n",
    "plt.title(\"2019-20 Visitors\", fontsize=40)\n",
    "plt.legend(bbox_to_anchor=(1, 0.99), loc='upper right', prop={'size': 30});\n",
    "plt.xticks(fontsize=30)\n",
    "plt.xlabel('Number of Visitors', fontsize=40)\n",
    "plt.yticks(fontsize=30)\n",
    "plt.ylabel('Name of the Monument', fontsize=40)\n",
    "\n",
    "# Plotting barplot of 2020-21 Visitors\n",
    "plt.subplot(1,2,2)\n",
    "sns.barplot(y='Name of the Monument ', x=\"total-2020-21-visitors\", data=clean_df, color='purple', label='Foreign')\n",
    "sns.barplot(y='Name of the Monument ', x='Domestic-2020-21', data=clean_df, color='orange', label='Domestic')\n",
    "plt.title(\"2020-21 Visitors\", fontsize=40)\n",
    "plt.legend(bbox_to_anchor=(1, 0.99), loc='upper right', prop={'size': 30});\n",
    "plt.xticks(fontsize=30)\n",
    "plt.xlabel('Number of Visitors', fontsize=40)\n",
    "plt.ylabel('Name of the Monument', fontsize=40)\n",
    "\n",
    "fig.suptitle(\"Number of Tourists Based on Monument in Given Years\", fontsize=40, fontweight='bold');"
   ]
  },
  {
   "cell_type": "code",
   "execution_count": null,
   "id": "f7c1d559",
   "metadata": {},
   "outputs": [],
   "source": [
    "# Plotting barplots of total visitors during those years\n",
    "plt.figure(figsize=(30,70))\n",
    "ax = sns.barplot(y='Name of the Monument ', x=\"total-2019-20-visitors\",data=clean_df, color='#00BFFF', label='2019-20 Visitors', alpha=0.7)\n",
    "sns.barplot(y='Name of the Monument ', x=\"total-2020-21-visitors\", data=clean_df, color='red', label='2020-21 Visitors', alpha=0.5)\n",
    "plt.title(\"Diffrence of Number of Tourists Based on Monument in Given Years\", fontsize=40, fontweight='bold');\n",
    "plt.legend(bbox_to_anchor=(1, 0.81), loc='upper right', prop={'size': 30});\n",
    "plt.xticks(fontsize=30)\n",
    "plt.yticks(fontsize=30)\n",
    "plt.xlabel('Number of Visitors', fontsize=40)\n",
    "plt.ylabel('Name of the Monument', fontsize=40);\n",
    "plt.xscale(\"log\")"
   ]
  },
  {
   "cell_type": "code",
   "execution_count": null,
   "id": "18fbd88e",
   "metadata": {},
   "outputs": [],
   "source": [
    "import pandas as pd\n",
    "from sklearn.model_selection import train_test_split\n",
    "from sklearn.linear_model import LinearRegression\n",
    "from sklearn.metrics import mean_squared_error, r2_score\n",
    "\n",
    "X = clean_df[['total-2019-20-visitors']]\n",
    "y = clean_df['total-2020-21-visitors']\n",
    "\n",
    "# Split the data into training and testing sets\n",
    "X_train, X_test, y_train, y_test = train_test_split(X, y, test_size=0.2, random_state=0)\n",
    "\n",
    "# Create a Linear Regression model\n",
    "model = LinearRegression()\n",
    "\n",
    "# Fit the model on the training data\n",
    "model.fit(X_train, y_train)\n",
    "\n",
    "# Make predictions on the test data\n",
    "y_pred = model.predict(X_test)\n",
    "\n",
    "# Evaluate the model\n",
    "mse = mean_squared_error(y_test, y_pred)\n",
    "r2 = r2_score(y_test, y_pred)\n",
    "\n",
    "# Print the model coefficients and evaluation metrics\n",
    "print(\"Linear Regression Coefficients:\", model.coef_)\n",
    "print(\"Mean Squared Error:\", mse)\n",
    "print(\"R-squared:\", r2)"
   ]
  },
  {
   "cell_type": "code",
   "execution_count": null,
   "id": "036ea3db",
   "metadata": {},
   "outputs": [],
   "source": []
  },
  {
   "cell_type": "code",
   "execution_count": null,
   "id": "eabf9bc6",
   "metadata": {},
   "outputs": [],
   "source": []
  },
  {
   "cell_type": "code",
   "execution_count": null,
   "id": "b6ff20f0",
   "metadata": {},
   "outputs": [],
   "source": []
  }
 ],
 "metadata": {
  "kernelspec": {
   "display_name": "Python 3 (ipykernel)",
   "language": "python",
   "name": "python3"
  },
  "language_info": {
   "codemirror_mode": {
    "name": "ipython",
    "version": 3
   },
   "file_extension": ".py",
   "mimetype": "text/x-python",
   "name": "python",
   "nbconvert_exporter": "python",
   "pygments_lexer": "ipython3",
   "version": "3.9.13"
  }
 },
 "nbformat": 4,
 "nbformat_minor": 5
}
